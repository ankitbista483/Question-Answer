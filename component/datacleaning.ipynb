{
 "cells": [
  {
   "cell_type": "code",
   "execution_count": 12,
   "metadata": {},
   "outputs": [],
   "source": [
    "import pandas as pd \n",
    "import re"
   ]
  },
  {
   "cell_type": "code",
   "execution_count": 13,
   "metadata": {},
   "outputs": [],
   "source": [
    "df = pd.read_csv('/Users/ankitbista/Desktop/practice/Question-Answer/song_lyrics.csv')"
   ]
  },
  {
   "cell_type": "code",
   "execution_count": 33,
   "metadata": {},
   "outputs": [
    {
     "data": {
      "text/html": [
       "<div>\n",
       "<style scoped>\n",
       "    .dataframe tbody tr th:only-of-type {\n",
       "        vertical-align: middle;\n",
       "    }\n",
       "\n",
       "    .dataframe tbody tr th {\n",
       "        vertical-align: top;\n",
       "    }\n",
       "\n",
       "    .dataframe thead th {\n",
       "        text-align: right;\n",
       "    }\n",
       "</style>\n",
       "<table border=\"1\" class=\"dataframe\">\n",
       "  <thead>\n",
       "    <tr style=\"text-align: right;\">\n",
       "      <th></th>\n",
       "      <th>Song Title</th>\n",
       "      <th>Artist</th>\n",
       "      <th>Lyrics</th>\n",
       "    </tr>\n",
       "  </thead>\n",
       "  <tbody>\n",
       "    <tr>\n",
       "      <th>0</th>\n",
       "      <td>- Wrong Ones (Feat. Tim McGraw)</td>\n",
       "      <td>Post Malone</td>\n",
       "      <td>24 ContributorsTranslationsPortuguêsPolskiEspa...</td>\n",
       "    </tr>\n",
       "    <tr>\n",
       "      <th>1</th>\n",
       "      <td>- Finer Things (Feat. Hank Williams Jr.)</td>\n",
       "      <td>Post Malone</td>\n",
       "      <td>28 ContributorsTranslationsPortuguêsPolskiEspa...</td>\n",
       "    </tr>\n",
       "    <tr>\n",
       "      <th>2</th>\n",
       "      <td>- I Had Some Help (Feat. Morgan Wallen)</td>\n",
       "      <td>Post Malone</td>\n",
       "      <td>61 ContributorsTranslationsPortuguêsDeutschNor...</td>\n",
       "    </tr>\n",
       "  </tbody>\n",
       "</table>\n",
       "</div>"
      ],
      "text/plain": [
       "                                 Song Title       Artist  \\\n",
       "0           - Wrong Ones (Feat. Tim McGraw)  Post Malone   \n",
       "1  - Finer Things (Feat. Hank Williams Jr.)  Post Malone   \n",
       "2   - I Had Some Help (Feat. Morgan Wallen)  Post Malone   \n",
       "\n",
       "                                              Lyrics  \n",
       "0  24 ContributorsTranslationsPortuguêsPolskiEspa...  \n",
       "1  28 ContributorsTranslationsPortuguêsPolskiEspa...  \n",
       "2  61 ContributorsTranslationsPortuguêsDeutschNor...  "
      ]
     },
     "execution_count": 33,
     "metadata": {},
     "output_type": "execute_result"
    }
   ],
   "source": [
    "df.head(3)"
   ]
  },
  {
   "cell_type": "code",
   "execution_count": 31,
   "metadata": {},
   "outputs": [
    {
     "name": "stdout",
     "output_type": "stream",
     "text": [
      "96 ContributorsTranslationsNederlandsTürkçeOver Now Lyrics[Intro]\n",
      "Ahahah, yeah\n",
      "(Yeah, yeah, yeah)\n",
      "\n",
      "[Verse 1]\n",
      "When you leave me, make me jump up off my roof\n",
      "Didn't faze you, would've given you the moon\n",
      "Even after everything that we've been through\n",
      "I ain't never met nobody like you\n",
      "Why you always tryna tell me that it's cool?\n",
      "Need to quiet 'cause you never tell the truth\n",
      "Felt like ballin' was the only thing to do\n",
      "Trade my woman for some diamonds and a coupe\n",
      "\n",
      "[Pre-Chorus]\n",
      "When she's comin' for my heart, it feels like Armageddon\n",
      "I'ma turn the tables, promise you will not forget it\n",
      "Won't apologize, don't give a fuck if you're offended\n",
      "No discussion, yeah, we gotta go our separate ways\n",
      "Won't take me down in flames\n",
      "I don't even wanna know your name\n",
      "Watch how everything is gonna change, yeah, ayy\n",
      "\n",
      "[Chorus]\n",
      "I'ma pull up in a Bentley\n",
      "With a fuckin' hunnid thousand in my pocket, yeah, yeah\n",
      "I'ma pull in, swang my door open\n",
      "Stuntin', knowin' everybody watchin', yeah, yeah\n",
      "And help another bitch out the whip\n",
      "And I don't give a fuck if you don't like it, yeah, yeah\n",
      "Just to show you that it's over\n",
      "It don't matter what you gotta say about it, yeah\n",
      "I'ma put that bitch pussy in a motherfuckin' bodybag\n",
      "So you know that I'm never ever coming back\n",
      "You kept your heart on the counter in a Prada bag\n",
      "I used to never ever want to see the light of day, yeah\n",
      "I was an idiot\n",
      "Beggin' on my knees onto the floor\n",
      "Now, I don't even want you anymore, anymore\n",
      "It's over now\n",
      "It's over now, yeah, yeah, yeah, ayy\n",
      "See Post Malone LiveGet tickets as low as $43You might also like[Verse 2]\n",
      "Feels like a knife in my throat, you treat this like it's a joke\n",
      "I bet you've done this before, I ain't surprised, yeah\n",
      "I wasn't tryna let go, but you'll know why when I'm ghost\n",
      "I hope you wind up alone, dead in my eyes, yeah\n",
      "Ain't religious, only Christian when it's Dior\n",
      "Only prayin' for the Amex and the gold\n",
      "You ain't stop me, no, you only was a detour\n",
      "Tried to drive me crazy, you ran out of road\n",
      "\n",
      "[Pre-Chorus]\n",
      "When she's comin' for my heart, it feels like Armageddon\n",
      "I'ma turn the tables, promise you will not forget it\n",
      "Won't apologize, don't give a fuck if you're offended\n",
      "No discussion, yeah, we gotta go our separate ways\n",
      "Won't take me down in flames\n",
      "I don't even wanna know your name\n",
      "Watch how everything is gonna change (Is gonna change), yeah, ayy\n",
      "\n",
      "[Chorus]\n",
      "I'ma pull up in a Bentley\n",
      "With a fuckin' hunnid thousand in my pocket, yeah, yeah\n",
      "I'ma pull in, swang my door open\n",
      "Stuntin', knowin' everybody watchin', yeah, yeah\n",
      "And help another bitch out the whip\n",
      "And I don't give a fuck if you don't like it, yeah, yeah (I don't give a fuck)\n",
      "Just to show you that it's over\n",
      "It don't matter what you gotta say about it, yeah (What you gotta say about it)\n",
      "I'ma put that bitch pussy in a motherfuckin' bodybag (In a bodybag)\n",
      "So you know that I'm never ever coming back (Never coming back)\n",
      "You kept your heart on the counter in a Prada bag (In a Prada bag)\n",
      "I used to never ever want to see the light of day, yeah\n",
      "I was an idiot\n",
      "Beggin' on my knees on to the floor (To the floor)\n",
      "Now I don't even want you anymore, anymore\n",
      "It's over now\n",
      "It's over now\n",
      "(It's over now)50Embed\n",
      "[Intro]\n",
      "Ahahah, yeah\n",
      "(Yeah, yeah, yeah)\n",
      "\n",
      "[Verse 1]\n",
      "When you leave me, make me jump up off my roof\n",
      "Didn't faze you, would've given you the moon\n",
      "Even after everything that we've been through\n",
      "I ain't never met nobody like you\n",
      "Why you always tryna tell me that it's cool?\n",
      "Need to quiet 'cause you never tell the truth\n",
      "Felt like ballin' was the only thing to do\n",
      "Trade my woman for some diamonds and a coupe\n",
      "\n",
      "[Pre-Chorus]\n",
      "When she's comin' for my heart, it feels like Armageddon\n",
      "I'ma turn the tables, promise you will not forget it\n",
      "Won't apologize, don't give a fuck if you're offended\n",
      "No discussion, yeah, we gotta go our separate ways\n",
      "Won't take me down in flames\n",
      "I don't even wanna know your name\n",
      "Watch how everything is gonna change, yeah, ayy\n",
      "\n",
      "[Chorus]\n",
      "I'ma pull up in a Bentley\n",
      "With a fuckin' hunnid thousand in my pocket, yeah, yeah\n",
      "I'ma pull in, swang my door open\n",
      "Stuntin', knowin' everybody watchin', yeah, yeah\n",
      "And help another bitch out the whip\n",
      "And I don't give a fuck if you don't like it, yeah, yeah\n",
      "Just to show you that it's over\n",
      "It don't matter what you gotta say about it, yeah\n",
      "I'ma put that bitch pussy in a motherfuckin' bodybag\n",
      "So you know that I'm never ever coming back\n",
      "You kept your heart on the counter in a Prada bag\n",
      "I used to never ever want to see the light of day, yeah\n",
      "I was an idiot\n",
      "Beggin' on my knees onto the floor\n",
      "Now, I don't even want you anymore, anymore\n",
      "It's over now\n",
      "It's over now, yeah, yeah, yeah, ayy\n",
      "\n",
      "[Verse 2]\n",
      "Feels like a knife in my throat, you treat this like it's a joke\n",
      "I bet you've done this before, I ain't surprised, yeah\n",
      "I wasn't tryna let go, but you'll know why when I'm ghost\n",
      "I hope you wind up alone, dead in my eyes, yeah\n",
      "Ain't religious, only Christian when it's Dior\n",
      "Only prayin' for the Amex and the gold\n",
      "You ain't stop me, no, you only was a detour\n",
      "Tried to drive me crazy, you ran out of road\n",
      "\n",
      "[Pre-Chorus]\n",
      "When she's comin' for my heart, it feels like Armageddon\n",
      "I'ma turn the tables, promise you will not forget it\n",
      "Won't apologize, don't give a fuck if you're offended\n",
      "No discussion, yeah, we gotta go our separate ways\n",
      "Won't take me down in flames\n",
      "I don't even wanna know your name\n",
      "Watch how everything is gonna change (Is gonna change), yeah, ayy\n",
      "\n",
      "[Chorus]\n",
      "I'ma pull up in a Bentley\n",
      "With a fuckin' hunnid thousand in my pocket, yeah, yeah\n",
      "I'ma pull in, swang my door open\n",
      "Stuntin', knowin' everybody watchin', yeah, yeah\n",
      "And help another bitch out the whip\n",
      "And I don't give a fuck if you don't like it, yeah, yeah (I don't give a fuck)\n",
      "Just to show you that it's over\n",
      "It don't matter what you gotta say about it, yeah (What you gotta say about it)\n",
      "I'ma put that bitch pussy in a motherfuckin' bodybag (In a bodybag)\n",
      "So you know that I'm never ever coming back (Never coming back)\n",
      "You kept your heart on the counter in a Prada bag (In a Prada bag)\n",
      "I used to never ever want to see the light of day, yeah\n",
      "I was an idiot\n",
      "Beggin' on my knees on to the floor (To the floor)\n",
      "Now I don't even want you anymore, anymore\n",
      "It's over now\n",
      "It's over now\n",
      "(It's over now)\n"
     ]
    }
   ],
   "source": [
    "lyrics = df['Lyrics'][71]\n",
    "print(lyrics)"
   ]
  },
  {
   "cell_type": "code",
   "execution_count": 27,
   "metadata": {},
   "outputs": [],
   "source": [
    "def clean_lyrics(lyrics):\n",
    "    lyrics = re.sub(r'^\\d+\\s+Contributors.*|Translation.*', '', lyrics)\n",
    "    lyrics = re.sub(r'\\[.*?\\]', '', lyrics)\n",
    "    lyrics = re.sub(r'[^a-zA-Z0-9\\s\\n]', '', lyrics)\n",
    "    lyrics = ' '.join(lyrics.split())\n",
    "\n",
    "    return lyrics.strip()\n",
    "\n"
   ]
  },
  {
   "cell_type": "code",
   "execution_count": 37,
   "metadata": {},
   "outputs": [
    {
     "data": {
      "text/plain": [
       "0      Lift kit on a limousine I got ten problems dow...\n",
       "1      Catfish caviar south of Florida cigar Staggrip...\n",
       "2      You got a lotta nerve dont you baby I only hit...\n",
       "3      Forty hours got me goin out my mind Dallas dro...\n",
       "4      Baby I dont have the heart to break yours Yeah...\n",
       "                             ...                        \n",
       "96     Ima take a Bud Light break one minute Ah ah I ...\n",
       "97     Ohohohoh She said Love me so I love her Ohohoh...\n",
       "98     Ooh ooh Ooh yeah yeah Ooh yeah yeah I never th...\n",
       "99     Good job First Woah skrrt skrrt Diamonds in my...\n",
       "100    Ive been looking for someone Ooh ooh ooh ooh o...\n",
       "Name: Lyrics, Length: 101, dtype: object"
      ]
     },
     "execution_count": 37,
     "metadata": {},
     "output_type": "execute_result"
    }
   ],
   "source": [
    "df['Lyrics'] = df['Lyrics'].apply(clean_lyrics)\n",
    "df['Lyrics']\n"
   ]
  },
  {
   "cell_type": "code",
   "execution_count": 38,
   "metadata": {},
   "outputs": [
    {
     "data": {
      "text/plain": [
       "0                Wrong Ones (Feat. Tim McGraw)\n",
       "1       Finer Things (Feat. Hank Williams Jr.)\n",
       "2        I Had Some Help (Feat. Morgan Wallen)\n",
       "3        Pour Me A Drink (Feat. Blake Shelton)\n",
       "4          Have The Heart (Feat. Dolly Parton)\n",
       "                        ...                   \n",
       "96                    Yours Truly, Austin Post\n",
       "97                                       Leave\n",
       "98                               Hit This Hard\n",
       "99                         Money Made Me Do It\n",
       "100                            Feeling Whitney\n",
       "Name: Song Title, Length: 101, dtype: object"
      ]
     },
     "execution_count": 38,
     "metadata": {},
     "output_type": "execute_result"
    }
   ],
   "source": [
    "df['Song Title']= df['Song Title'].apply(lambda x: re.sub(r'^\\s*-',\"\",x))\n",
    "df['Song Title']"
   ]
  },
  {
   "cell_type": "code",
   "execution_count": 39,
   "metadata": {},
   "outputs": [],
   "source": [
    "df.to_csv('song_lyrics_cleaned.csv',index=False,encoding='utf-8')"
   ]
  },
  {
   "cell_type": "code",
   "execution_count": null,
   "metadata": {},
   "outputs": [],
   "source": []
  }
 ],
 "metadata": {
  "kernelspec": {
   "display_name": "base",
   "language": "python",
   "name": "python3"
  },
  "language_info": {
   "codemirror_mode": {
    "name": "ipython",
    "version": 3
   },
   "file_extension": ".py",
   "mimetype": "text/x-python",
   "name": "python",
   "nbconvert_exporter": "python",
   "pygments_lexer": "ipython3",
   "version": "3.12.2"
  },
  "orig_nbformat": 4
 },
 "nbformat": 4,
 "nbformat_minor": 2
}
